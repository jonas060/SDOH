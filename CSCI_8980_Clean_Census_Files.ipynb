{
  "cells": [
    {
      "cell_type": "code",
      "execution_count": 1,
      "metadata": {
        "id": "iGq0ovtB2x3B"
      },
      "outputs": [],
      "source": [
        "import pandas as pd"
      ]
    },
    {
      "cell_type": "code",
      "execution_count": 65,
      "metadata": {
        "colab": {
          "base_uri": "https://localhost:8080/",
          "height": 73
        },
        "id": "Z-tfV6_t4kmI",
        "outputId": "be240563-e3c7-4ee8-99e3-bada31c4beba"
      },
      "outputs": [
        {
          "name": "stderr",
          "output_type": "stream",
          "text": [
            "c:\\Users\\gmpet\\anaconda3\\lib\\site-packages\\IPython\\core\\interactiveshell.py:3071: DtypeWarning: Columns (30,31,32,33,49,61,76,77,78,79,80,81,82,83,84,85,117,132,133,134,135,173,221,245,307,308,309,310,311,312,313,314,315,316,317,318,319,320,321,322,323,324,325,326,327,328,329,330,331,332,333,334,335,336,337,339,340,341,342,343,344,345,346,347,348,349,350,351,353,354,355,356,357,358,359,360,361,362,363,365,366,367,368,369,370,371,372,373,374,375,377,378,379,380,381,382,383,384,385,386,387,388,389,391,392,393,394,395,396,397,398,399,400,401,403,404,405,406,407,409,410,411,412,413,414,415,416,417,418,419,421,422,423,424,425,426,427,428,429,430,431,432,433,434,435,436,437,438,439,441,442,443,445,446,447,449,450,451,453,454,455,457,458,459,461,462,463,464,465,466,467,468,469,470,471,472,473,474,475,477,478,479,480,481,482,483,484,485,486,487,488,489,491,492,493,494,495,497,499,500,501,502,503,505,506,507,508,509,511,512,513,514,515,516,517,518,519,520,521,522,523,525,526,527,528,529,530,531,532,533,534,535,536,537,538,539,540,541,542,543,544,545,546,547,549,550,551,552,553,554,555,556,557,558,559,560,561,562,563,564,565,566,567,568,569,570,571,572,573,574,575,576,577,578,579,580,581,582,583,584,585,586,587,588,589,590,591,592,593,594,595,596,597,598,599,600,601,602,603,605,606,607,608,609) have mixed types.Specify dtype option on import or set low_memory=False.\n",
            "  has_raised = await self.run_ast_nodes(code_ast.body, cell_name,\n",
            "c:\\Users\\gmpet\\anaconda3\\lib\\site-packages\\IPython\\core\\interactiveshell.py:3071: DtypeWarning: Columns (150,151) have mixed types.Specify dtype option on import or set low_memory=False.\n",
            "  has_raised = await self.run_ast_nodes(code_ast.body, cell_name,\n",
            "c:\\Users\\gmpet\\anaconda3\\lib\\site-packages\\IPython\\core\\interactiveshell.py:3071: DtypeWarning: Columns (3,5,7,11,21,23,25,31,39,43,49,51,53,55,59,61,63,67,127,141,143,153) have mixed types.Specify dtype option on import or set low_memory=False.\n",
            "  has_raised = await self.run_ast_nodes(code_ast.body, cell_name,\n"
          ]
        }
      ],
      "source": [
        "acs_dp02_full = pd.read_csv(r\"C:\\Users\\gmpet\\OneDrive\\Documents\\Grad School\\CSCI 8980\\Project\\ACSDP5Y2017.DP02-Data.csv\", header=1)\n",
        "acs_dp03_full = pd.read_csv(r\"C:\\Users\\gmpet\\OneDrive\\Documents\\Grad School\\CSCI 8980\\Project\\ACSDP5Y2017.DP03-Data.csv\", header=1)\n",
        "acs_dp04_full = pd.read_csv(r\"C:\\Users\\gmpet\\OneDrive\\Documents\\Grad School\\CSCI 8980\\Project\\ACSDP5Y2017.DP04-Data.csv\", header=1)\n",
        "acs_dp05_full = pd.read_csv(r\"C:\\Users\\gmpet\\OneDrive\\Documents\\Grad School\\CSCI 8980\\Project\\ACSDP5Y2017.DP05-Data.csv\", header=1)\n",
        "acs_s1810_full = pd.read_csv(r\"C:\\Users\\gmpet\\OneDrive\\Documents\\Grad School\\CSCI 8980\\Project\\Disability_Characteristics_S1810-Data.csv\", header=1)\n",
        "\n",
        "# acs_dp04_full"
      ]
    },
    {
      "cell_type": "code",
      "execution_count": 37,
      "metadata": {
        "colab": {
          "base_uri": "https://localhost:8080/",
          "height": 686
        },
        "id": "WWvQ98R1kfaE",
        "outputId": "596a0758-188a-4013-898d-f00ff6048ce5"
      },
      "outputs": [
        {
          "name": "stdout",
          "output_type": "stream",
          "text": [
            "columns_greater_than_100 []\n"
          ]
        }
      ],
      "source": [
        "# Keeping only percent estimates\n",
        "columns_to_remove = ['Geographic Area Name', 'Unnamed: 574']\n",
        "columns_to_remove = columns_to_remove + [col for col in acs_dp04_full.columns if col.startswith('Estimate!!')]\n",
        "columns_to_remove = columns_to_remove + [col for col in acs_dp04_full.columns if col.startswith('Margin of Error!!')]\n",
        "columns_to_remove = columns_to_remove + [col for col in acs_dp04_full.columns if col.startswith('Percent Margin of Error!!')]\n",
        "\n",
        "# All null values\n",
        "columns_to_remove = columns_to_remove + ['Percent Estimate!!HOUSING OCCUPANCY!!Total housing units!!Homeowner vacancy rate', 'Percent Estimate!!HOUSING OCCUPANCY!!Total housing units!!Rental vacancy rate', 'Percent Estimate!!ROOMS!!Total housing units!!Median rooms', 'Percent Estimate!!HOUSING TENURE!!Occupied housing units!!Average household size of owner-occupied unit', 'Percent Estimate!!HOUSING TENURE!!Occupied housing units!!Average household size of renter-occupied unit', 'Percent Estimate!!VALUE!!Owner-occupied units!!Median (dollars)', 'Percent Estimate!!SELECTED MONTHLY OWNER COSTS (SMOC)!!Housing units with a mortgage!!Median (dollars)', 'Percent Estimate!!SELECTED MONTHLY OWNER COSTS (SMOC)!!Housing units without a mortgage!!Median (dollars)', 'Percent Estimate!!SELECTED MONTHLY OWNER COSTS AS A PERCENTAGE OF HOUSEHOLD INCOME (SMOCAPI)!!Housing units with a mortgage (excluding units where SMOCAPI cannot be computed)!!Not computed', 'Percent Estimate!!SELECTED MONTHLY OWNER COSTS AS A PERCENTAGE OF HOUSEHOLD INCOME (SMOCAPI)!!Housing unit without a mortgage (excluding units where SMOCAPI cannot be computed)!!Not computed', 'Percent Estimate!!GROSS RENT!!Occupied units paying rent!!Median (dollars)', 'Percent Estimate!!GROSS RENT!!Occupied units paying rent!!No rent paid', 'Percent Estimate!!GROSS RENT AS A PERCENTAGE OF HOUSEHOLD INCOME (GRAPI)!!Occupied units paying rent (excluding units where GRAPI cannot be computed)!!Not computed']\n",
        "\n",
        "# Removing totals (not percentages)\n",
        "columns_to_remove = columns_to_remove + [col for col in acs_dp04_full.columns if col.endswith('!!Total housing units')] # Removing totals (not percentages)\n",
        "columns_to_remove = columns_to_remove + ['Percent Estimate!!SELECTED MONTHLY OWNER COSTS (SMOC)!!Housing units with a mortgage', 'Percent Estimate!!SELECTED MONTHLY OWNER COSTS (SMOC)!!Housing units without a mortgage', 'Percent Estimate!!SELECTED MONTHLY OWNER COSTS AS A PERCENTAGE OF HOUSEHOLD INCOME (SMOCAPI)!!Housing units with a mortgage (excluding units where SMOCAPI cannot be computed)', 'Percent Estimate!!SELECTED MONTHLY OWNER COSTS AS A PERCENTAGE OF HOUSEHOLD INCOME (SMOCAPI)!!Housing unit without a mortgage (excluding units where SMOCAPI cannot be computed)', 'Percent Estimate!!GROSS RENT!!Occupied units paying rent', 'Percent Estimate!!GROSS RENT AS A PERCENTAGE OF HOUSEHOLD INCOME (GRAPI)!!Occupied units paying rent (excluding units where GRAPI cannot be computed)']\n",
        "columns_to_remove = columns_to_remove + [col for col in acs_dp04_full.columns if col.endswith('!!Occupied housing units') and col != 'Percent Estimate!!HOUSING OCCUPANCY!!Total housing units!!Occupied housing units']\n",
        "columns_to_remove = columns_to_remove + [col for col in acs_dp04_full.columns if col.endswith('!!Owner-occupied units')]\n",
        "\n",
        "acs_dp04 = acs_dp04_full.drop(columns=columns_to_remove)\n",
        "\n",
        "# Updating to census tract\n",
        "acs_dp04['Geography'] = acs_dp04['Geography'].str.replace('1400000US', '', regex=False)\n",
        "\n",
        "# Find non-numeric columns\n",
        "for column in acs_dp04.columns:\n",
        "    acs_dp04[column] = pd.to_numeric(acs_dp04[column], errors='coerce')\n",
        "null_columns = acs_dp04.columns[acs_dp04.isnull().all()].tolist()\n",
        "print(\"all null values:\", null_columns)\n",
        "\n",
        "# Find non-percentage columns\n",
        "columns_greater_than_100 = []\n",
        "for column in acs_dp04.columns:\n",
        "    acs_dp04[column] = pd.to_numeric(acs_dp04[column], errors='coerce')\n",
        "    if acs_dp04[column].dtype in ['int64', 'float64']:\n",
        "        if (acs_dp04[column] > 100).any():\n",
        "            columns_greater_than_100.append(column)\n",
        "print(\"columns_greater_than_100\", columns_greater_than_100)\n",
        "\n",
        "acs_dp04.to_csv(\"ACSDP5Y2017.DP04-Data_CLEAN.csv\", index=True, header=True)"
      ]
    },
    {
      "cell_type": "code",
      "execution_count": 50,
      "metadata": {
        "colab": {
          "base_uri": "https://localhost:8080/"
        },
        "id": "cY7p-a3QYk7R",
        "outputId": "d7b8bfe7-3cb1-446a-8c41-a4e1796bbf2a"
      },
      "outputs": [
        {
          "name": "stdout",
          "output_type": "stream",
          "text": [
            "all null values: []\n",
            "columns_greater_than_100 ['Geography']\n"
          ]
        }
      ],
      "source": [
        "\n",
        "# Keeping only percent estimates\n",
        "columns_to_remove = ['Geographic Area Name']\n",
        "columns_to_remove = columns_to_remove + [col for col in acs_dp02_full.columns if col.startswith('Margin of Error!!')]\n",
        "columns_to_remove = columns_to_remove + [col for col in acs_dp02_full.columns if col.startswith('Percent Margin of Error!!')]\n",
        "columns_to_remove = columns_to_remove + [col for col in acs_dp02_full.columns if col.startswith('Estimate!!')]\n",
        "\n",
        "# All null values\n",
        "columns_to_remove = columns_to_remove + ['Percent Estimate!!HOUSEHOLDS BY TYPE!!Total households!!Average household size', 'Percent Estimate!!HOUSEHOLDS BY TYPE!!Total households!!Average family size', 'Percent Estimate!!FERTILITY!!Number of women 15 to 50 years old who had a birth in the past 12 months!!Unmarried women (widowed, divorced, and never married)!!Per 1,000 unmarried women', 'Percent Estimate!!FERTILITY!!Number of women 15 to 50 years old who had a birth in the past 12 months!!Per 1,000 women 15 to 50 years old', 'Percent Estimate!!FERTILITY!!Number of women 15 to 50 years old who had a birth in the past 12 months!!Per 1,000 women 15 to 19 years old', 'Percent Estimate!!FERTILITY!!Number of women 15 to 50 years old who had a birth in the past 12 months!!Per 1,000 women 20 to 34 years old', 'Percent Estimate!!FERTILITY!!Number of women 15 to 50 years old who had a birth in the past 12 months!!Per 1,000 women 35 to 50 years old', 'Unnamed: 610']\n",
        "\n",
        "# Removing totals (not percentages)\n",
        "columns_to_remove = columns_to_remove + ['Percent Estimate!!HOUSEHOLDS BY TYPE!!Total households', 'Percent Estimate!!RELATIONSHIP!!Population in households', 'Percent Estimate!!MARITAL STATUS!!Males 15 years and over', 'Percent Estimate!!MARITAL STATUS!!Females 15 years and over', 'Percent Estimate!!FERTILITY!!Number of women 15 to 50 years old who had a birth in the past 12 months', 'Percent Estimate!!GRANDPARENTS!!Number of grandparents living with own grandchildren under 18 years', 'Percent Estimate!!GRANDPARENTS!!Number of grandparents responsible for own grandchildren under 18 years', 'Percent Estimate!!SCHOOL ENROLLMENT!!Population 3 years and over enrolled in school', 'Percent Estimate!!EDUCATIONAL ATTAINMENT!!Population 25 years and over', 'Percent Estimate!!VETERAN STATUS!!Civilian population 18 years and over', 'Percent Estimate!!DISABILITY STATUS OF THE CIVILIAN NONINSTITUTIONALIZED POPULATION!!Total Civilian Noninstitutionalized Population', 'Percent Estimate!!DISABILITY STATUS OF THE CIVILIAN NONINSTITUTIONALIZED POPULATION!!Under 18 years', 'Percent Estimate!!DISABILITY STATUS OF THE CIVILIAN NONINSTITUTIONALIZED POPULATION!!18 to 64 years', 'Percent Estimate!!DISABILITY STATUS OF THE CIVILIAN NONINSTITUTIONALIZED POPULATION!!65 years and over', 'Percent Estimate!!RESIDENCE 1 YEAR AGO!!Population 1 year and over', 'Percent Estimate!!PLACE OF BIRTH!!Total population', 'Percent Estimate!!U.S. CITIZENSHIP STATUS!!Foreign-born population', 'Percent Estimate!!YEAR OF ENTRY!!Population born outside the United States', 'Percent Estimate!!YEAR OF ENTRY!!Population born outside the United States!!Native', 'Percent Estimate!!YEAR OF ENTRY!!Population born outside the United States!!Foreign born', 'Percent Estimate!!WORLD REGION OF BIRTH OF FOREIGN BORN!!Foreign-born population, excluding population born at sea', 'Percent Estimate!!LANGUAGE SPOKEN AT HOME!!Population 5 years and over', 'Percent Estimate!!ANCESTRY!!Total population', 'Percent Estimate!!COMPUTERS AND INTERNET USE!!Total households']\n",
        "\n",
        "acs_dp02 = acs_dp02_full.drop(columns=columns_to_remove)\n",
        "\n",
        "# Updating to census tract\n",
        "acs_dp02['Geography'] = acs_dp02['Geography'].str.replace('1400000US', '', regex=False)\n",
        "\n",
        "# Find non-numeric columns\n",
        "for column in acs_dp02.columns:\n",
        "    acs_dp02[column] = pd.to_numeric(acs_dp02[column], errors='coerce')\n",
        "null_columns = acs_dp02.columns[acs_dp02.isnull().all()].tolist()\n",
        "print(\"all null values:\", null_columns)\n",
        "\n",
        "# Find non-percentage columns\n",
        "columns_greater_than_100 = []\n",
        "for column in acs_dp02.columns:\n",
        "    acs_dp02[column] = pd.to_numeric(acs_dp02[column], errors='coerce')\n",
        "    if acs_dp02[column].dtype in ['int64', 'float64']:\n",
        "        if (acs_dp02[column] > 100).any():\n",
        "            columns_greater_than_100.append(column)\n",
        "print(\"columns_greater_than_100\", columns_greater_than_100)\n",
        "\n",
        "\n",
        "acs_dp02.to_csv(\"ACSDP5Y2017.DP02-Data_CLEAN.csv\", index=True, header=True)"
      ]
    },
    {
      "cell_type": "code",
      "execution_count": 58,
      "metadata": {
        "colab": {
          "base_uri": "https://localhost:8080/"
        },
        "id": "XlNmoU_LBbqB",
        "outputId": "5e0343a7-ae07-47cd-b413-507831340233"
      },
      "outputs": [],
      "source": [
        "# Keeping only percent estimates\n",
        "columns_to_remove = ['Geographic Area Name']\n",
        "columns_to_remove = columns_to_remove + [col for col in acs_dp03_full.columns if col.startswith('Margin of Error!!')]\n",
        "columns_to_remove = columns_to_remove + [col for col in acs_dp03_full.columns if col.startswith('Percent Margin of Error!!')]\n",
        "columns_to_remove = columns_to_remove + [col for col in acs_dp03_full.columns if col.startswith('Estimate!!')]\n",
        "\n",
        "# All null values\n",
        "columns_to_remove = columns_to_remove + ['Percent Estimate!!COMMUTING TO WORK!!Workers 16 years and over!!Mean travel time to work (minutes)', 'Percent Estimate!!INCOME AND BENEFITS (IN 2017 INFLATION-ADJUSTED DOLLARS)!!Total households!!Median household income (dollars)', 'Percent Estimate!!INCOME AND BENEFITS (IN 2017 INFLATION-ADJUSTED DOLLARS)!!Total households!!Mean household income (dollars)', 'Percent Estimate!!INCOME AND BENEFITS (IN 2017 INFLATION-ADJUSTED DOLLARS)!!Total households!!With earnings!!Mean earnings (dollars)', 'Percent Estimate!!INCOME AND BENEFITS (IN 2017 INFLATION-ADJUSTED DOLLARS)!!Total households!!With Social Security!!Mean Social Security income (dollars)', 'Percent Estimate!!INCOME AND BENEFITS (IN 2017 INFLATION-ADJUSTED DOLLARS)!!Total households!!With retirement income!!Mean retirement income (dollars)', 'Percent Estimate!!INCOME AND BENEFITS (IN 2017 INFLATION-ADJUSTED DOLLARS)!!Total households!!With Supplemental Security Income!!Mean Supplemental Security Income (dollars)', 'Percent Estimate!!INCOME AND BENEFITS (IN 2017 INFLATION-ADJUSTED DOLLARS)!!Total households!!With cash public assistance income!!Mean cash public assistance income (dollars)', 'Percent Estimate!!INCOME AND BENEFITS (IN 2017 INFLATION-ADJUSTED DOLLARS)!!Families!!Median family income (dollars)', 'Percent Estimate!!INCOME AND BENEFITS (IN 2017 INFLATION-ADJUSTED DOLLARS)!!Families!!Mean family income (dollars)', 'Percent Estimate!!INCOME AND BENEFITS (IN 2017 INFLATION-ADJUSTED DOLLARS)!!Families!!Per capita income (dollars)', 'Percent Estimate!!INCOME AND BENEFITS (IN 2017 INFLATION-ADJUSTED DOLLARS)!!Nonfamily households!!Median nonfamily income (dollars)', 'Percent Estimate!!INCOME AND BENEFITS (IN 2017 INFLATION-ADJUSTED DOLLARS)!!Nonfamily households!!Mean nonfamily income (dollars)', 'Percent Estimate!!INCOME AND BENEFITS (IN 2017 INFLATION-ADJUSTED DOLLARS)!!Median earnings for workers (dollars)', 'Percent Estimate!!INCOME AND BENEFITS (IN 2017 INFLATION-ADJUSTED DOLLARS)!!Median earnings for male full-time, year-round workers (dollars)', 'Percent Estimate!!INCOME AND BENEFITS (IN 2017 INFLATION-ADJUSTED DOLLARS)!!Median earnings for female full-time, year-round workers (dollars)', 'Unnamed: 550']\n",
        "\n",
        "# Removing totals (not percentages)\n",
        "columns_to_remove = columns_to_remove + ['Percent Estimate!!EMPLOYMENT STATUS!!Population 16 years and over', 'Percent Estimate!!EMPLOYMENT STATUS!!Civilian labor force', 'Percent Estimate!!EMPLOYMENT STATUS!!Females 16 years and over', 'Percent Estimate!!EMPLOYMENT STATUS!!Own children of the householder under 6 years', 'Percent Estimate!!EMPLOYMENT STATUS!!Own children of the householder 6 to 17 years', 'Percent Estimate!!COMMUTING TO WORK!!Workers 16 years and over', 'Percent Estimate!!OCCUPATION!!Civilian employed population 16 years and over', 'Percent Estimate!!INDUSTRY!!Civilian employed population 16 years and over', 'Percent Estimate!!CLASS OF WORKER!!Civilian employed population 16 years and over', 'Percent Estimate!!INCOME AND BENEFITS (IN 2017 INFLATION-ADJUSTED DOLLARS)!!Total households', 'Percent Estimate!!INCOME AND BENEFITS (IN 2017 INFLATION-ADJUSTED DOLLARS)!!Families', 'Percent Estimate!!INCOME AND BENEFITS (IN 2017 INFLATION-ADJUSTED DOLLARS)!!Nonfamily households', 'Percent Estimate!!HEALTH INSURANCE COVERAGE!!Civilian noninstitutionalized population', 'Percent Estimate!!HEALTH INSURANCE COVERAGE!!Civilian noninstitutionalized population!!Civilian noninstitutionalized population under 19 years', 'Percent Estimate!!HEALTH INSURANCE COVERAGE!!Civilian noninstitutionalized population!!Civilian noninstitutionalized population 19 to 64 years', 'Percent Estimate!!HEALTH INSURANCE COVERAGE!!Civilian noninstitutionalized population!!Civilian noninstitutionalized population 19 to 64 years!!In labor force', 'Percent Estimate!!HEALTH INSURANCE COVERAGE!!Civilian noninstitutionalized population!!Civilian noninstitutionalized population 19 to 64 years!!In labor force!!Employed', 'Percent Estimate!!HEALTH INSURANCE COVERAGE!!Civilian noninstitutionalized population!!Civilian noninstitutionalized population 19 to 64 years!!In labor force!!Unemployed', 'Percent Estimate!!HEALTH INSURANCE COVERAGE!!Civilian noninstitutionalized population!!Civilian noninstitutionalized population 19 to 64 years!!Not in labor force']\n",
        "\n",
        "acs_dp03 = acs_dp03_full.drop(columns=columns_to_remove)\n",
        "\n",
        "# Updating to census tract\n",
        "acs_dp03['Geography'] = acs_dp03['Geography'].str.replace('1400000US', '', regex=False)\n",
        "\n",
        "# Find non-numeric columns\n",
        "for column in acs_dp03.columns:\n",
        "    acs_dp03[column] = pd.to_numeric(acs_dp03[column], errors='coerce')\n",
        "null_columns = acs_dp03.columns[acs_dp03.isnull().all()].tolist()\n",
        "print(\"all null values:\", null_columns)\n",
        "\n",
        "# Find non-percentage columns\n",
        "columns_greater_than_100 = []\n",
        "for column in acs_dp03.columns:\n",
        "    acs_dp03[column] = pd.to_numeric(acs_dp03[column], errors='coerce')\n",
        "    if acs_dp03[column].dtype in ['int64', 'float64']:\n",
        "        if (acs_dp03[column] > 100).any():\n",
        "            columns_greater_than_100.append(column)\n",
        "print(\"columns_greater_than_100\", columns_greater_than_100)\n",
        "\n",
        "\n",
        "acs_dp03.to_csv(\"ACSDP5Y2017.DP03-Data_CLEAN.csv\", index=True, header=True)\n",
        "\n"
      ]
    },
    {
      "cell_type": "code",
      "execution_count": 69,
      "metadata": {
        "colab": {
          "base_uri": "https://localhost:8080/"
        },
        "id": "D9U56_Kj3LEA",
        "outputId": "5c9424c6-ed0f-44de-e6d0-ed1966fab264"
      },
      "outputs": [
        {
          "name": "stdout",
          "output_type": "stream",
          "text": [
            "all null values: []\n",
            "columns_greater_than_100 ['Geography']\n"
          ]
        }
      ],
      "source": [
        "# Keeping only percent estimates\n",
        "columns_to_remove = ['Geographic Area Name']\n",
        "columns_to_remove = columns_to_remove + [col for col in acs_dp05_full.columns if col.startswith('Margin of Error!!')]\n",
        "columns_to_remove = columns_to_remove + [col for col in acs_dp05_full.columns if col.startswith('Percent Margin of Error!!')]\n",
        "columns_to_remove = columns_to_remove + [col for col in acs_dp05_full.columns if col.startswith('Estimate!!')]\n",
        "\n",
        "# All null values\n",
        "columns_to_remove = columns_to_remove + ['Percent Estimate!!SEX AND AGE!!Total population!!Sex ratio (males per 100 females)', 'Percent Estimate!!SEX AND AGE!!Total population!!Median age (years)', 'Percent Estimate!!SEX AND AGE!!Total population!!18 years and over!!Sex ratio (males per 100 females)', 'Percent Estimate!!SEX AND AGE!!Total population!!65 years and over!!Sex ratio (males per 100 females)', 'Percent Estimate!!Total housing units', 'Unnamed: 358']\n",
        "\n",
        "# Removing totals (not percentages)\n",
        "columns_to_remove = columns_to_remove + ['Percent Estimate!!SEX AND AGE!!Total population', 'Percent Estimate!!SEX AND AGE!!Total population!!18 years and over.1', 'Percent Estimate!!SEX AND AGE!!Total population!!65 years and over.1', 'Percent Estimate!!RACE!!Total population', 'Percent Estimate!!Race alone or in combination with one or more other races!!Total population', 'Percent Estimate!!HISPANIC OR LATINO AND RACE!!Total population', 'Percent Estimate!!CITIZEN, VOTING AGE POPULATION!!Citizen, 18 and over population']\n",
        "\n",
        "acs_dp05 = acs_dp05_full.drop(columns=columns_to_remove)\n",
        "\n",
        "# Updating to census tract\n",
        "acs_dp05['Geography'] = acs_dp05['Geography'].str.replace('1400000US', '', regex=False)\n",
        "\n",
        "# Find non-numeric columns\n",
        "for column in acs_dp05.columns:\n",
        "    acs_dp05[column] = pd.to_numeric(acs_dp05[column], errors='coerce')\n",
        "null_columns = acs_dp05.columns[acs_dp05.isnull().all()].tolist()\n",
        "print(\"all null values:\", null_columns)\n",
        "\n",
        "# Find non-percentage columns\n",
        "columns_greater_than_100 = []\n",
        "for column in acs_dp05.columns:\n",
        "    acs_dp05[column] = pd.to_numeric(acs_dp05[column], errors='coerce')\n",
        "    if acs_dp05[column].dtype in ['int64', 'float64']:\n",
        "        if (acs_dp05[column] > 100).any():\n",
        "            columns_greater_than_100.append(column)\n",
        "print(\"columns_greater_than_100\", columns_greater_than_100)\n",
        "\n",
        "\n",
        "acs_dp05.to_csv(\"ACSDP5Y2017.DP05-Data_CLEAN.csv\", index=True, header=True)"
      ]
    },
    {
      "cell_type": "code",
      "execution_count": 71,
      "metadata": {
        "colab": {
          "base_uri": "https://localhost:8080/"
        },
        "id": "sV0CIv7c8ehQ",
        "outputId": "bc625223-358f-4f25-9d2b-39d6e7a2016e"
      },
      "outputs": [
        {
          "name": "stdout",
          "output_type": "stream",
          "text": [
            "all null values: []\n",
            "columns_greater_than_100 ['Geography']\n"
          ]
        }
      ],
      "source": [
        "# Keeping only percent estimates\n",
        "columns_to_remove = ['Geographic Area Name']\n",
        "columns_to_remove = columns_to_remove + [col for col in acs_s1810_full.columns if col.startswith('Margin of Error!!')]\n",
        "columns_to_remove = columns_to_remove + [col for col in acs_s1810_full.columns if col.startswith('Percent Margin of Error!!')]\n",
        "columns_to_remove = columns_to_remove + [col for col in acs_s1810_full.columns if col.startswith('Estimate!!Total!!Subject!!')]\n",
        "columns_to_remove = columns_to_remove + [col for col in acs_s1810_full.columns if col.startswith('Estimate!!With a disability!!Subject!!')]\n",
        "\n",
        "# All null values\n",
        "columns_to_remove = columns_to_remove + ['Estimate!!Total!!Subject!!DISABILITY TYPE BY DETAILED AGE!!With a hearing difficulty', 'Estimate!!Total!!Subject!!DISABILITY TYPE BY DETAILED AGE!!With a vision difficulty', 'Estimate!!Total!!Subject!!DISABILITY TYPE BY DETAILED AGE!!With a cognitive difficulty', 'Estimate!!Total!!Subject!!DISABILITY TYPE BY DETAILED AGE!!With an ambulatory difficulty', 'Estimate!!Total!!Subject!!DISABILITY TYPE BY DETAILED AGE!!With a self-care difficulty', 'Estimate!!Total!!Subject!!DISABILITY TYPE BY DETAILED AGE!!With an independent living difficulty', 'Unnamed: 416']\n",
        "\n",
        "acs_s1810 = acs_s1810_full.drop(columns=columns_to_remove)\n",
        "\n",
        "# Updating to census tract\n",
        "acs_s1810['Geography'] = acs_s1810['Geography'].str.replace('1400000US', '', regex=False)\n",
        "\n",
        "\n",
        "# Find non-numeric columns\n",
        "for column in acs_s1810.columns:\n",
        "    acs_s1810[column] = pd.to_numeric(acs_s1810[column], errors='coerce')\n",
        "null_columns = acs_s1810.columns[acs_s1810.isnull().all()].tolist()\n",
        "print(\"all null values:\", null_columns)\n",
        "\n",
        "# Find non-percentage columns\n",
        "columns_greater_than_100 = []\n",
        "for column in acs_s1810.columns:\n",
        "    acs_s1810[column] = pd.to_numeric(acs_s1810[column], errors='coerce')\n",
        "    if acs_s1810[column].dtype in ['int64', 'float64']:\n",
        "        if (acs_s1810[column] > 100).any():\n",
        "            columns_greater_than_100.append(column)\n",
        "print(\"columns_greater_than_100\", columns_greater_than_100)\n",
        "\n",
        "acs_s1810.to_csv(\"ACSDP5Y2017.S1810-Data_CLEAN.csv\", index=True, header=True)"
      ]
    }
  ],
  "metadata": {
    "colab": {
      "machine_shape": "hm",
      "provenance": []
    },
    "kernelspec": {
      "display_name": "Python 3",
      "name": "python3"
    },
    "language_info": {
      "codemirror_mode": {
        "name": "ipython",
        "version": 3
      },
      "file_extension": ".py",
      "mimetype": "text/x-python",
      "name": "python",
      "nbconvert_exporter": "python",
      "pygments_lexer": "ipython3",
      "version": "3.8.3"
    }
  },
  "nbformat": 4,
  "nbformat_minor": 0
}
